{
  "nbformat": 4,
  "nbformat_minor": 2,
  "metadata": {
    "colab": {
      "name": "Exploratory_Data_Analysis_Template.ipynb",
      "provenance": []
    },
    "kernelspec": {
      "name": "python3",
      "display_name": "Python 3"
    }
  },
  "cells": [
    {
      "cell_type": "markdown",
      "source": [
        "# Objective\n",
        "What is the objective or goal that you are trying to accomplish? What is the decision that you must make?"
      ],
      "metadata": {
        "id": "lsDrM8l-04op"
      }
    },
    {
      "cell_type": "code",
      "execution_count": null,
      "source": [],
      "outputs": [],
      "metadata": {
        "id": "w-GUhxgN00RG"
      }
    },
    {
      "cell_type": "markdown",
      "source": [
        "# Hypothesis: Research Question?\n",
        " What is the question that you would like to answer in order to make a decision."
      ],
      "metadata": {
        "id": "8Fv7ykXU0_I5"
      }
    },
    {
      "cell_type": "code",
      "execution_count": null,
      "source": [],
      "outputs": [],
      "metadata": {
        "id": "jJRBPtaDDoJP"
      }
    },
    {
      "cell_type": "markdown",
      "source": [
        "# Data Source\n",
        "Explain where did you get the data. How can you trust this data? Who produced this data and what were their motiviations?\n"
      ],
      "metadata": {
        "id": "9pBreNBF1FgG"
      }
    },
    {
      "cell_type": "markdown",
      "source": [
        "* The data used for this project comes from several sources, first of all to have all the companies in the western department I had to do some web scraping and then for the demographic information I had access to the results of a survey conducted by the <b>Office For The Coordination Of Humanitarian Affairs</b> on the density of the Haitian population by department and by municipality.\r\n",
        "\r\n",
        "* Then, other information such as average per capita income, labor force participation rate, and tax revenues by department were obtained via articles on the Haitian economy. "
      ],
      "metadata": {
        "id": "CNFnyfmWDon4"
      }
    },
    {
      "cell_type": "markdown",
      "source": [
        "# Data Cleaning\n",
        "In this step you will prepare your data for analysis.\n",
        "\n",
        "## Review data types\n",
        "Inspect the dataset for the data types of each column.\n",
        "\n",
        "## Analytical Transformations\n",
        "Perform any transformation on the columns in the dataset to enable further analysis.\n",
        "\n",
        "### Treatment of Missing Values\n",
        "If there are any missing values, how do you plan to treat those data columns?"
      ],
      "metadata": {
        "id": "LdBQ_GkJ1xX0"
      }
    },
    {
      "cell_type": "code",
      "execution_count": null,
      "source": [],
      "outputs": [],
      "metadata": {
        "id": "E9L98pYKDpCb"
      }
    },
    {
      "cell_type": "markdown",
      "source": [
        "# Data Analysis\n",
        "Explore the dataset to discover relationships between records or columns and patterns within the data.\n",
        "\n",
        "## Descriptive Statistical Analysis\n",
        "Using basic statistical measures such as measurements of central tendancy such as mean, median and mode.\n",
        "\n",
        "### Distribution of Variables\n",
        "Identify the distribution of the data to understand the range of values and how the data is structured.\n",
        "\n",
        "### Outliers in the dataset\n",
        "Identify if there are any outliers in the dataset based on statistical measures."
      ],
      "metadata": {
        "id": "WHp-JTxP10Uu"
      }
    },
    {
      "cell_type": "code",
      "execution_count": null,
      "source": [],
      "outputs": [],
      "metadata": {
        "id": "gzOqBRtwDpx0"
      }
    },
    {
      "cell_type": "markdown",
      "source": [
        "# Reflections\n",
        "## Summary of Data Analysis\n",
        "- What insights should the user takeaway from EDA.\n",
        "\n",
        "## Questions unanswered\n",
        "- What aspects of the research question were we unable to answer and why?\n",
        "\n",
        "## Recommendations\n",
        "- What should the reader do next with this information?\n",
        "\n",
        "## Next Steps\n",
        "- What will the analyst do next based on the analysis?"
      ],
      "metadata": {
        "id": "IUywflAl9L3W"
      }
    },
    {
      "cell_type": "code",
      "execution_count": null,
      "source": [],
      "outputs": [],
      "metadata": {
        "id": "91B1ac_JDqY1"
      }
    }
  ]
}
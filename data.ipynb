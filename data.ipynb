{
 "cells": [
  {
   "cell_type": "code",
   "execution_count": 9,
   "source": [
    "import pandas as pd"
   ],
   "outputs": [],
   "metadata": {}
  },
  {
   "cell_type": "code",
   "execution_count": 10,
   "source": [
    "data    = pd.read_excel('All.xlsx')\r\n",
    "pop     =pd.read_excel('hti-pop-statistics.xlsx')"
   ],
   "outputs": [],
   "metadata": {}
  },
  {
   "cell_type": "code",
   "execution_count": 11,
   "source": [
    "display(pop.shape)\r\n",
    "display(pop.info())"
   ],
   "outputs": [
    {
     "output_type": "display_data",
     "data": {
      "text/plain": [
       "(141, 15)"
      ]
     },
     "metadata": {}
    },
    {
     "output_type": "stream",
     "name": "stdout",
     "text": [
      "<class 'pandas.core.frame.DataFrame'>\n",
      "RangeIndex: 141 entries, 0 to 140\n",
      "Data columns (total 15 columns):\n",
      " #   Column          Non-Null Count  Dtype \n",
      "---  ------          --------------  ----- \n",
      " 0   code_iso3       141 non-null    object\n",
      " 1   adm0_fr         141 non-null    object\n",
      " 2   adm1code        141 non-null    object\n",
      " 3   adm1_fr         141 non-null    object\n",
      " 4   adm2code        141 non-null    object\n",
      " 5   adm2_fr         141 non-null    object\n",
      " 6   Population      141 non-null    object\n",
      " 7   Femmes          141 non-null    object\n",
      " 8   Hommes          141 non-null    object\n",
      " 9   Enfants         141 non-null    object\n",
      " 10  Adultes         141 non-null    object\n",
      " 11  Filles          141 non-null    object\n",
      " 12  Garcons         141 non-null    object\n",
      " 13  Femmes adultes  141 non-null    object\n",
      " 14  Hommes adultes  141 non-null    object\n",
      "dtypes: object(15)\n",
      "memory usage: 16.6+ KB\n"
     ]
    },
    {
     "output_type": "display_data",
     "data": {
      "text/plain": [
       "None"
      ]
     },
     "metadata": {}
    }
   ],
   "metadata": {}
  },
  {
   "cell_type": "code",
   "execution_count": null,
   "source": [],
   "outputs": [],
   "metadata": {}
  },
  {
   "cell_type": "code",
   "execution_count": 12,
   "source": [
    "data.shape"
   ],
   "outputs": [
    {
     "output_type": "execute_result",
     "data": {
      "text/plain": [
       "(1937, 172)"
      ]
     },
     "metadata": {},
     "execution_count": 12
    }
   ],
   "metadata": {}
  },
  {
   "cell_type": "code",
   "execution_count": 15,
   "source": [
    "data['Q02- Depatman'].value_counts()"
   ],
   "outputs": [
    {
     "output_type": "execute_result",
     "data": {
      "text/plain": [
       "Ouest         262\n",
       "Nord-est      217\n",
       "Sud           214\n",
       "Artibonite    211\n",
       "Centre        203\n",
       "Nord          202\n",
       "Grand'Anse    182\n",
       "Nippes        179\n",
       "Nord-Ouest    136\n",
       "Sud-est       119\n",
       "Name: Q02- Depatman, dtype: int64"
      ]
     },
     "metadata": {},
     "execution_count": 15
    }
   ],
   "metadata": {}
  },
  {
   "cell_type": "code",
   "execution_count": null,
   "source": [],
   "outputs": [],
   "metadata": {}
  }
 ],
 "metadata": {
  "orig_nbformat": 4,
  "language_info": {
   "name": "python",
   "version": "3.9.5",
   "mimetype": "text/x-python",
   "codemirror_mode": {
    "name": "ipython",
    "version": 3
   },
   "pygments_lexer": "ipython3",
   "nbconvert_exporter": "python",
   "file_extension": ".py"
  },
  "kernelspec": {
   "name": "python3",
   "display_name": "Python 3.9.5 64-bit"
  },
  "interpreter": {
   "hash": "ac59ebe37160ed0dfa835113d9b8498d9f09ceb179beaac4002f036b9467c963"
  }
 },
 "nbformat": 4,
 "nbformat_minor": 2
}